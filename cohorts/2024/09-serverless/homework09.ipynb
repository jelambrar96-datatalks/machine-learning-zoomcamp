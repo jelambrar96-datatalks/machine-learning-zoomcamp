{
 "cells": [
  {
   "cell_type": "markdown",
   "metadata": {},
   "source": [
    "# Homework 09"
   ]
  },
  {
   "cell_type": "markdown",
   "metadata": {},
   "source": [
    "In this homework, we'll deploy the bees vs wasps model we trained in the \n",
    "[previous homework](../08-deep-learning/homework.md).\n",
    "\n",
    "Download the model from here: \n",
    "\n",
    "https://github.com/alexeygrigorev/large-datasets/releases/download/wasps-bees/bees-wasps.h5"
   ]
  },
  {
   "cell_type": "code",
   "execution_count": 18,
   "metadata": {},
   "outputs": [
    {
     "data": {
      "text/plain": [
       "'2.13.1'"
      ]
     },
     "execution_count": 18,
     "metadata": {},
     "output_type": "execute_result"
    }
   ],
   "source": [
    "import numpy as np\n",
    "\n",
    "import tensorflow as tf\n",
    "from tensorflow import keras\n",
    "\n",
    "tf.__version__"
   ]
  },
  {
   "cell_type": "code",
   "execution_count": 19,
   "metadata": {},
   "outputs": [],
   "source": [
    "from tensorflow.keras.preprocessing.image import load_img\n",
    "from tensorflow.keras.applications.xception import preprocess_input"
   ]
  },
  {
   "cell_type": "code",
   "execution_count": null,
   "metadata": {},
   "outputs": [],
   "source": [
    "MODEL_FILEPATH = \"bees-wasps.h5\"\n",
    "MODEL_LITE_FILEPATH = \"bees-wasps.tflite\""
   ]
  },
  {
   "cell_type": "markdown",
   "metadata": {},
   "source": [
    "## Question 1\n",
    "\n",
    "Now convert this model from Keras to TF-Lite format.\n",
    "\n",
    "What's the size of the **converted** model?\n",
    "\n",
    "* 21 Mb\n",
    "* **43 Mb** (answer)\n",
    "* 80 Mb\n",
    "* 164 Mb"
   ]
  },
  {
   "cell_type": "code",
   "execution_count": 21,
   "metadata": {},
   "outputs": [
    {
     "name": "stdout",
     "output_type": "stream",
     "text": [
      "INFO:tensorflow:Assets written to: /tmp/tmprirvia1n/assets\n"
     ]
    },
    {
     "name": "stderr",
     "output_type": "stream",
     "text": [
      "INFO:tensorflow:Assets written to: /tmp/tmprirvia1n/assets\n",
      "2024-12-11 13:19:29.479806: W tensorflow/compiler/mlir/lite/python/tf_tfl_flatbuffer_helpers.cc:364] Ignored output_format.\n",
      "2024-12-11 13:19:29.479978: W tensorflow/compiler/mlir/lite/python/tf_tfl_flatbuffer_helpers.cc:367] Ignored drop_control_dependency.\n",
      "2024-12-11 13:19:29.481583: I tensorflow/cc/saved_model/reader.cc:45] Reading SavedModel from: /tmp/tmprirvia1n\n",
      "2024-12-11 13:19:29.488073: I tensorflow/cc/saved_model/reader.cc:91] Reading meta graph with tags { serve }\n",
      "2024-12-11 13:19:29.488174: I tensorflow/cc/saved_model/reader.cc:132] Reading SavedModel debug info (if present) from: /tmp/tmprirvia1n\n",
      "2024-12-11 13:19:29.513148: I tensorflow/cc/saved_model/loader.cc:231] Restoring SavedModel bundle.\n",
      "2024-12-11 13:19:30.151152: I tensorflow/cc/saved_model/loader.cc:215] Running initialization op on SavedModel bundle at path: /tmp/tmprirvia1n\n",
      "2024-12-11 13:19:30.244347: I tensorflow/cc/saved_model/loader.cc:314] SavedModel load for tags { serve }; Status: success: OK. Took 762775 microseconds.\n"
     ]
    }
   ],
   "source": [
    "model = keras.models.load_model(MODEL_FILEPATH)\n",
    "converter = tf.lite.TFLiteConverter.from_keras_model(model)\n",
    "\n",
    "tflite_model = converter.convert()\n",
    "\n",
    "with open(MODEL_LITE_FILEPATH, 'wb') as f_out:\n",
    "    f_out.write(tflite_model)"
   ]
  },
  {
   "cell_type": "code",
   "execution_count": 22,
   "metadata": {},
   "outputs": [
    {
     "name": "stdout",
     "output_type": "stream",
     "text": [
      "os.stat_result(st_mode=33204, st_ino=3200024, st_dev=66309, st_nlink=1, st_uid=1000, st_gid=1000, st_size=44866200, st_atime=1733933896, st_mtime=1733941176, st_ctime=1733941176)\n",
      "File Size in Bytes is 44866200\n"
     ]
    }
   ],
   "source": [
    "import os\n",
    "\n",
    "file_stats = os.stat(MODEL_LITE_FILEPATH)\n",
    "print(file_stats)\n",
    "print(f'File Size in Bytes is {file_stats.st_size}')"
   ]
  },
  {
   "cell_type": "markdown",
   "metadata": {},
   "source": [
    "## Question 2\n",
    "\n",
    "To be able to use this model, we need to know the index of the input and \n",
    "the index of the output. \n",
    "\n",
    "What's the output index for this model?\n",
    "\n",
    "* 3\n",
    "* 7\n",
    "* **13** (answer)\n",
    "* 24"
   ]
  },
  {
   "cell_type": "code",
   "execution_count": 23,
   "metadata": {},
   "outputs": [],
   "source": [
    "import tensorflow.lite as tflite\n",
    "\n",
    "interpreter = tflite.Interpreter(model_path=MODEL_LITE_FILEPATH)\n",
    "interpreter.allocate_tensors()\n",
    "\n",
    "input_index = interpreter.get_input_details()[0]['index']\n",
    "output_index = interpreter.get_output_details()[0]['index']"
   ]
  },
  {
   "cell_type": "code",
   "execution_count": 24,
   "metadata": {},
   "outputs": [
    {
     "name": "stdout",
     "output_type": "stream",
     "text": [
      "output index 13\n"
     ]
    }
   ],
   "source": [
    "print(\"output index\", output_index)"
   ]
  },
  {
   "cell_type": "markdown",
   "metadata": {},
   "source": [
    "## Preparing the image\n",
    "\n",
    "You'll need some code for downloading and resizing images. You can use \n",
    "this code:\n",
    "\n",
    "```python\n",
    "from io import BytesIO\n",
    "from urllib import request\n",
    "\n",
    "from PIL import Image\n",
    "\n",
    "def download_image(url):\n",
    "    with request.urlopen(url) as resp:\n",
    "        buffer = resp.read()\n",
    "    stream = BytesIO(buffer)\n",
    "    img = Image.open(stream)\n",
    "    return img\n",
    "\n",
    "\n",
    "def prepare_image(img, target_size):\n",
    "    if img.mode != 'RGB':\n",
    "        img = img.convert('RGB')\n",
    "    img = img.resize(target_size, Image.NEAREST)\n",
    "    return img\n",
    "```\n",
    "\n",
    "For that, you'll need to have `pillow` installed:\n",
    "\n",
    "```bash\n",
    "pip install pillow\n",
    "```\n",
    "\n",
    "Let's download and resize this image: \n",
    "\n",
    "https://habrastorage.org/webt/rt/d9/dh/rtd9dhsmhwrdezeldzoqgijdg8a.jpeg\n",
    "\n",
    "Based on the previous homework, what should be the target size for the image?"
   ]
  },
  {
   "cell_type": "code",
   "execution_count": 25,
   "metadata": {},
   "outputs": [],
   "source": [
    "from io import BytesIO\n",
    "from urllib import request\n",
    "\n",
    "from PIL import Image\n",
    "\n",
    "def download_image(url):\n",
    "    with request.urlopen(url) as resp:\n",
    "        buffer = resp.read()\n",
    "    stream = BytesIO(buffer)\n",
    "    img = Image.open(stream)\n",
    "    return img\n",
    "\n",
    "\n",
    "def prepare_image(img, target_size):\n",
    "    if img.mode != 'RGB':\n",
    "        img = img.convert('RGB')\n",
    "    img = img.resize(target_size, Image.NEAREST)\n",
    "    return img"
   ]
  },
  {
   "cell_type": "code",
   "execution_count": 32,
   "metadata": {},
   "outputs": [],
   "source": [
    "IMAGE_URL =  \"https://habrastorage.org/webt/rt/d9/dh/rtd9dhsmhwrdezeldzoqgijdg8a.jpeg\"\n",
    "\n",
    "img = download_image(IMAGE_URL)\n",
    "img_resized = prepare_image(img, (150, 150))"
   ]
  },
  {
   "cell_type": "markdown",
   "metadata": {},
   "source": [
    "## Question 3\n",
    "\n",
    "Now we need to turn the image into numpy array and pre-process it. \n",
    "\n",
    "> Tip: Check the previous homework. What was the pre-processing \n",
    "> we did there?\n",
    "\n",
    "After the pre-processing, what's the value in the first pixel, the R channel?\n",
    "\n",
    "* 0.3450980\n",
    "* 0.5450980\n",
    "* 0.7450980\n",
    "* 0.9450980"
   ]
  },
  {
   "cell_type": "code",
   "execution_count": 33,
   "metadata": {},
   "outputs": [],
   "source": [
    "x = np.array(img_resized)\n",
    "X = np.array([x])\n",
    "\n",
    "X = preprocess_input(X)"
   ]
  },
  {
   "cell_type": "code",
   "execution_count": 34,
   "metadata": {},
   "outputs": [
    {
     "data": {
      "text/plain": [
       "array([0.8901961 , 0.81960785, 0.7019608 ], dtype=float32)"
      ]
     },
     "execution_count": 34,
     "metadata": {},
     "output_type": "execute_result"
    }
   ],
   "source": [
    "X[0][0][0]"
   ]
  },
  {
   "cell_type": "markdown",
   "metadata": {},
   "source": [
    "## Question 4\n",
    "\n",
    "Now let's apply this model to this image. What's the output of the model?\n",
    "\n",
    "* 0.258\n",
    "* 0.458\n",
    "* 0.658\n",
    "* 0.858"
   ]
  },
  {
   "cell_type": "code",
   "execution_count": 35,
   "metadata": {},
   "outputs": [],
   "source": [
    "interpreter.set_tensor(input_index, X)\n",
    "interpreter.invoke()\n",
    "preds = interpreter.get_tensor(output_index)"
   ]
  },
  {
   "cell_type": "code",
   "execution_count": 36,
   "metadata": {},
   "outputs": [
    {
     "data": {
      "text/plain": [
       "array([[0.14101154]], dtype=float32)"
      ]
     },
     "execution_count": 36,
     "metadata": {},
     "output_type": "execute_result"
    }
   ],
   "source": [
    "preds"
   ]
  },
  {
   "cell_type": "markdown",
   "metadata": {},
   "source": [
    "## Prepare the lambda code \n",
    "\n",
    "Now you need to copy all the code into a separate python file. You will \n",
    "need to use this file for the next two questions.\n",
    "\n",
    "Tip: you can test this file locally with `ipython` or Jupyter Notebook \n",
    "by importing the file and invoking the function from this file."
   ]
  },
  {
   "cell_type": "markdown",
   "metadata": {},
   "source": [
    "## Docker \n",
    "\n",
    "For the next two questions, we'll use a Docker image that we already \n",
    "prepared. This is the Dockerfile that we used for creating the image:\n",
    "\n",
    "```docker\n",
    "FROM public.ecr.aws/lambda/python:3.10\n",
    "COPY bees-wasps-v2.tflite .\n",
    "```\n",
    "\n",
    "And pushed it to [`agrigorev/zoomcamp-bees-wasps:v2`](https://hub.docker.com/r/agrigorev/zoomcamp-bees-wasps/tags).\n",
    "\n",
    "A few notes:\n",
    "\n",
    "* The image already contains a model and it's not the same model\n",
    "  as the one we used for questions 1-4.\n",
    "* The version of Python is 3.10, so you need to use the right wheel for \n",
    "  TF-Lite. For Tensorflow 2.14.0, it's https://github.com/alexeygrigorev/tflite-aws-lambda/raw/main/tflite/tflite_runtime-2.14.0-cp310-cp310-linux_x86_64.whl"
   ]
  },
  {
   "cell_type": "markdown",
   "metadata": {},
   "source": [
    "## Question 5\n",
    "\n",
    "Download the base image `agrigorev/zoomcamp-bees-wasps:v2`. You can easily make it by using [docker pull](https://docs.docker.com/engine/reference/commandline/pull/) command.\n",
    "\n",
    "So what's the size of this base image?\n",
    "\n",
    "* 162 Mb\n",
    "* 362 Mb\n",
    "* **662 Mb** (answer)\n",
    "* 962 Mb\n",
    "\n",
    "You can get this information when running `docker images` - it'll be in the \"SIZE\" column.\n"
   ]
  },
  {
   "cell_type": "markdown",
   "metadata": {},
   "source": [
    "```bash\n",
    "$ docker image ls | grep agrigorev \n",
    "agrigorev/zoomcamp-bees-wasps            v2            b9f6c13de368   12 months ago   662MB\n",
    "```"
   ]
  },
  {
   "cell_type": "markdown",
   "metadata": {},
   "source": [
    "## Question 6\n",
    "\n",
    "Now let's extend this docker image, install all the required libraries\n",
    "and add the code for lambda.\n",
    "\n",
    "You don't need to include the model in the image. It's already included. \n",
    "The name of the file with the model is `bees-wasps-v2.tflite` and it's \n",
    "in the current workdir in the image (see the Dockerfile above for the \n",
    "reference). \n",
    "The provided model requires the same preprocessing for images regarding target size and rescaling the value range than used in homework 8.\n",
    "\n",
    "Now run the container locally.\n",
    "\n",
    "Score this image: https://habrastorage.org/webt/rt/d9/dh/rtd9dhsmhwrdezeldzoqgijdg8a.jpeg\n",
    "\n",
    "What's the output from the model?\n",
    "\n",
    "* 0.2453\n",
    "* 0.4453\n",
    "* 0.6453\n",
    "* 0.8453"
   ]
  },
  {
   "cell_type": "code",
   "execution_count": null,
   "metadata": {},
   "outputs": [],
   "source": [
    "import requests\n",
    "\n",
    "url = 'http://localhost:8080/2015-03-31/functions/function/invocations'\n",
    "\n",
    "data = {'url': 'https://habrastorage.org/webt/rt/d9/dh/rtd9dhsmhwrdezeldzoqgijdg8a.jpeg'}\n",
    "\n",
    "result = requests.post(url, json=data).json()\n",
    "print(result)\n"
   ]
  },
  {
   "cell_type": "markdown",
   "metadata": {},
   "source": [
    "\n",
    "## Publishing it to AWS\n",
    "\n",
    "Now you can deploy your model to AWS!\n",
    "\n",
    "* Publish your image to ECR\n",
    "* Create a lambda function in AWS, use the ECR image\n",
    "* Give it more RAM and increase the timeout \n",
    "* Test it\n",
    "* Expose the lambda function using API Gateway\n",
    "\n",
    "This is optional and not graded."
   ]
  },
  {
   "cell_type": "markdown",
   "metadata": {},
   "source": [
    "## Publishing to Docker hub\n",
    "\n",
    "This is just for reference, this is how we published our image to Docker hub:\n",
    "\n",
    "```bash\n",
    "docker build -t zoomcamp-bees-wasps -f homework.dockerfile .\n",
    "docker tag zoomcamp-bees-wasps:latest agrigorev/zoomcamp-bees-wasps:v2\n",
    "docker push agrigorev/zoomcamp-bees-wasps:v2\n",
    "```"
   ]
  },
  {
   "cell_type": "markdown",
   "metadata": {},
   "source": [
    "## Submit the results\n",
    "\n",
    "* Submit your results here: TBA\n",
    "* If your answer doesn't match options exactly, select the closest one"
   ]
  }
 ],
 "metadata": {
  "kernelspec": {
   "display_name": "ml-h09-py38",
   "language": "python",
   "name": "python3"
  },
  "language_info": {
   "codemirror_mode": {
    "name": "ipython",
    "version": 3
   },
   "file_extension": ".py",
   "mimetype": "text/x-python",
   "name": "python",
   "nbconvert_exporter": "python",
   "pygments_lexer": "ipython3",
   "version": "3.8.20"
  }
 },
 "nbformat": 4,
 "nbformat_minor": 2
}
