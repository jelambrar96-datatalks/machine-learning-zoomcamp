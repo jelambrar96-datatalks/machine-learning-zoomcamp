{
 "cells": [
  {
   "cell_type": "markdown",
   "id": "c64d91a5-7cdd-4013-8207-b769ac9080bf",
   "metadata": {},
   "source": [
    "## Homework\n",
    "\n",
    "> Note: sometimes your answer doesn't match one of \n",
    "> the options exactly. That's fine. \n",
    "> Select the option that's closest to your solution.\n",
    "\n",
    "\n",
    "### Dataset\n",
    "\n",
    "In this homework, we will use the Laptops price dataset from [Kaggle](https://www.kaggle.com/datasets/juanmerinobermejo/laptops-price-dataset).\n",
    "\n",
    "Here's a wget-able [link](https://raw.githubusercontent.com/alexeygrigorev/datasets/master/laptops.csv):\n",
    "\n",
    "```bash\n",
    "wget https://raw.githubusercontent.com/alexeygrigorev/datasets/master/laptops.csv\n",
    "```\n",
    "\n",
    "The goal of this homework is to create a regression model for predicting the prices (column `'Final Price'`)."
   ]
  },
  {
   "cell_type": "code",
   "execution_count": 1,
   "id": "ca104750-139c-46cd-a86f-206c82f001e3",
   "metadata": {},
   "outputs": [
    {
     "name": "stdout",
     "output_type": "stream",
     "text": [
      "--2024-10-05 16:24:51--  https://raw.githubusercontent.com/alexeygrigorev/datasets/master/laptops.csv\n",
      "Resolving raw.githubusercontent.com (raw.githubusercontent.com)... 2606:50c0:8003::154, 2606:50c0:8000::154, 2606:50c0:8001::154, ...\n",
      "Connecting to raw.githubusercontent.com (raw.githubusercontent.com)|2606:50c0:8003::154|:443... connected.\n",
      "HTTP request sent, awaiting response... 200 OK\n",
      "Length: 298573 (292K) [text/plain]\n",
      "Saving to: ‘laptops.csv.1’\n",
      "\n",
      "laptops.csv.1       100%[===================>] 291.58K  --.-KB/s    in 0.1s    \n",
      "\n",
      "2024-10-05 16:24:52 (2.70 MB/s) - ‘laptops.csv.1’ saved [298573/298573]\n",
      "\n"
     ]
    }
   ],
   "source": [
    "!wget https://raw.githubusercontent.com/alexeygrigorev/datasets/master/laptops.csv"
   ]
  },
  {
   "cell_type": "markdown",
   "id": "8099cfa6-4709-439b-8e7c-7f84fcdc7f6e",
   "metadata": {},
   "source": [
    "### Preparing the dataset \n",
    "\n",
    "First, we'll normalize the names of the columns:\n",
    "\n",
    "```python\n",
    "df.columns = df.columns.str.lower().str.replace(' ', '_')\n",
    "```\n",
    "\n",
    "Now, instead of `'Final Price'`, we have `'final_price'`.\n",
    "\n",
    "Next, use only the following columns:\n",
    "\n",
    "* `'ram'`,\n",
    "* `'storage'`,\n",
    "* `'screen'`,\n",
    "* `'final_price'`\n",
    "\n",
    "### EDA\n",
    "\n",
    "* Look at the `final_price` variable. Does it have a long tail? "
   ]
  },
  {
   "cell_type": "code",
   "execution_count": 2,
   "id": "c832a51d-380c-4134-8f5e-b481869f71d2",
   "metadata": {},
   "outputs": [],
   "source": [
    "import pandas as pd\n",
    "\n",
    "CSV_FILENAME = 'laptops.csv'\n",
    "df = pd.read_csv(CSV_FILENAME)\n",
    "\n",
    "df.columns = df.columns.str.lower().str.replace(' ', '_')\n",
    "\n",
    "TARGET_COLUMN = 'final_price'\n",
    "TRAINING_COLUMNS = [\n",
    "    'ram',\n",
    "    'storage',\n",
    "    'screen'\n",
    "] \n",
    "\n",
    "USEFUL_COLUMNS = TRAINING_COLUMNS[:]\n",
    "USEFUL_COLUMNS.append(TARGET_COLUMN)\n",
    "df = df[USEFUL_COLUMNS]"
   ]
  },
  {
   "cell_type": "markdown",
   "id": "84b52048-3f15-4fae-8ff4-9e5509e673c4",
   "metadata": {},
   "source": [
    "### Question 1\n",
    "\n",
    "There's one column with missing values. What is it?\n",
    "\n",
    "* `'ram'`\n",
    "* `'storage'`\n",
    "* **`'screen'`** (answer)\n",
    "* `'final_price'`"
   ]
  },
  {
   "cell_type": "code",
   "execution_count": 3,
   "id": "39e0cfa8-038f-41f8-921d-bb04279dd15f",
   "metadata": {},
   "outputs": [
    {
     "data": {
      "text/plain": [
       "ram            0\n",
       "storage        0\n",
       "screen         4\n",
       "final_price    0\n",
       "dtype: int64"
      ]
     },
     "execution_count": 3,
     "metadata": {},
     "output_type": "execute_result"
    }
   ],
   "source": [
    "df.isna().sum()"
   ]
  },
  {
   "cell_type": "markdown",
   "id": "b70f11d5-5399-4360-a33c-e589b5908d48",
   "metadata": {},
   "source": [
    "### Question 2\n",
    "\n",
    "What's the median (50% percentile) for variable `'ram'`?\n",
    "\n",
    "- 8\n",
    "- **16** (answer)\n",
    "- 24\n",
    "- 32"
   ]
  },
  {
   "cell_type": "code",
   "execution_count": 4,
   "id": "31caec6b-89cf-44f4-8113-132d495eda19",
   "metadata": {},
   "outputs": [
    {
     "data": {
      "text/plain": [
       "count    2160.000000\n",
       "mean       15.413889\n",
       "std         9.867815\n",
       "min         4.000000\n",
       "25%         8.000000\n",
       "50%        16.000000\n",
       "75%        16.000000\n",
       "max       128.000000\n",
       "Name: ram, dtype: float64"
      ]
     },
     "execution_count": 4,
     "metadata": {},
     "output_type": "execute_result"
    }
   ],
   "source": [
    "df['ram'].describe()"
   ]
  },
  {
   "cell_type": "code",
   "execution_count": 5,
   "id": "0c3a2dba-72cd-49f5-bb79-9572db197487",
   "metadata": {},
   "outputs": [
    {
     "data": {
      "text/plain": [
       "16.0"
      ]
     },
     "execution_count": 5,
     "metadata": {},
     "output_type": "execute_result"
    }
   ],
   "source": [
    "df['ram'].median()"
   ]
  },
  {
   "cell_type": "code",
   "execution_count": 6,
   "id": "1c1cec85-2ac1-488b-878e-f03bd689e6d5",
   "metadata": {},
   "outputs": [
    {
     "data": {
      "text/plain": [
       "16.0"
      ]
     },
     "execution_count": 6,
     "metadata": {},
     "output_type": "execute_result"
    }
   ],
   "source": [
    "df['ram'].quantile(q=0.5)"
   ]
  },
  {
   "cell_type": "markdown",
   "id": "41abbddd-fb48-4150-b544-1bda68d038f5",
   "metadata": {},
   "source": [
    "### Prepare and split the dataset\n",
    "\n",
    "* Shuffle the dataset (the filtered one you created above), use seed `42`.\n",
    "* Split your data in train/val/test sets, with 60%/20%/20% distribution.\n",
    "\n",
    "Use the same code as in the lectures"
   ]
  },
  {
   "cell_type": "code",
   "execution_count": 7,
   "id": "58759e85-66b5-430b-9668-21ba8ac8527d",
   "metadata": {},
   "outputs": [],
   "source": [
    "import numpy as np\n",
    "\n",
    "\n",
    "n = len(df)\n",
    "\n",
    "n_val = int(n * 0.2)\n",
    "n_test = int(n * 0.2)\n",
    "n_train = n - n_val - n_test\n",
    "\n",
    "idx = np.arange(n)\n",
    "np.random.seed(42)\n",
    "np.random.shuffle(idx)\n",
    "\n",
    "df_train = df.iloc[idx[:n_train]]\n",
    "df_val = df.iloc[idx[n_train:n_train+n_val]]\n",
    "df_test = df.iloc[idx[n_train+n_val:]]\n",
    "\n",
    "df_train = df_train.reset_index(drop=True)\n",
    "df_val = df_val.reset_index(drop=True)\n",
    "df_test = df_test.reset_index(drop=True)"
   ]
  },
  {
   "cell_type": "markdown",
   "id": "fb63f457-13b8-4a09-b3a7-ce9332441142",
   "metadata": {},
   "source": [
    "### Question 3\n",
    "\n",
    "* We need to deal with missing values for the column from Q1.\n",
    "* We have two options: fill it with 0 or with the mean of this variable.\n",
    "* Try both options. For each, train a linear regression model without regularization using the code from the lessons.\n",
    "* For computing the mean, use the training only!\n",
    "* Use the validation dataset to evaluate the models and compare the RMSE of each option.\n",
    "* Round the RMSE scores to 2 decimal digits using `round(score, 2)`\n",
    "* Which option gives better RMSE?\n",
    "\n",
    "Options:\n",
    "\n",
    "- **With 0** (answer)\n",
    "- With mean\n",
    "- Both are equally good"
   ]
  },
  {
   "cell_type": "code",
   "execution_count": 8,
   "id": "be42507b-5aaa-4210-954c-abc931e03df8",
   "metadata": {},
   "outputs": [],
   "source": [
    "def train_linear_regression(X, y):\n",
    "    ones = np.ones(X.shape[0])\n",
    "    X = np.column_stack([ones, X])\n",
    "\n",
    "    XTX = X.T.dot(X)\n",
    "    XTX_inv = np.linalg.inv(XTX)\n",
    "    w_full = XTX_inv.dot(X.T).dot(y)\n",
    "    \n",
    "    return w_full[0], w_full[1:]"
   ]
  },
  {
   "cell_type": "code",
   "execution_count": 9,
   "id": "5b7c12cc-13f0-45f5-b725-6022b0924bc2",
   "metadata": {},
   "outputs": [],
   "source": [
    "def rmse(y, y_pred):\n",
    "    se = (y - y_pred) ** 2\n",
    "    mse = se.mean()\n",
    "    return np.sqrt(mse)"
   ]
  },
  {
   "cell_type": "code",
   "execution_count": 10,
   "id": "85ce9566-5251-4765-a13f-147e23110370",
   "metadata": {},
   "outputs": [],
   "source": [
    "def predict(w0, w, X):\n",
    "    return w0 +  X.dot(w)"
   ]
  },
  {
   "cell_type": "code",
   "execution_count": 11,
   "id": "14056208-b127-4eb0-9563-b5e5da292e9c",
   "metadata": {},
   "outputs": [
    {
     "name": "stdout",
     "output_type": "stream",
     "text": [
      "rmse_1: 597.3635593619621\n"
     ]
    }
   ],
   "source": [
    "df1_train = df_train.copy()\n",
    "df1_train = df_train.fillna(0)\n",
    "\n",
    "X1_train = np.array(df1_train[TRAINING_COLUMNS])\n",
    "y1_train = np.array(df1_train[TARGET_COLUMN])\n",
    "\n",
    "w0_1, w_1 = train_linear_regression(X1_train, y1_train)\n",
    "\n",
    "df1_val = df_val.copy()\n",
    "df1_val = df_val.fillna(0)\n",
    "\n",
    "X1_val = np.array(df1_val[TRAINING_COLUMNS])\n",
    "y1_val = np.array(df1_val[TARGET_COLUMN])\n",
    "\n",
    "y1_pred = predict(w0_1, w_1, X1_val)\n",
    "rmse_1 = rmse(y1_val, y1_pred)\n",
    "\n",
    "print(\"rmse_1:\", rmse_1)"
   ]
  },
  {
   "cell_type": "code",
   "execution_count": 12,
   "id": "fa222e0d-e175-41e2-b23c-7e5ddfb82124",
   "metadata": {},
   "outputs": [
    {
     "name": "stdout",
     "output_type": "stream",
     "text": [
      "rmse_2: 600.2659410617158\n"
     ]
    }
   ],
   "source": [
    "df2_train = df_train.copy()\n",
    "df2_train = df_train.fillna(df.mean())\n",
    "\n",
    "X2_train = np.array(df2_train[TRAINING_COLUMNS])\n",
    "y2_train = np.array(df2_train[TARGET_COLUMN])\n",
    "\n",
    "w0_2, w_2 = train_linear_regression(X2_train, y2_train)\n",
    "\n",
    "df2_val = df_val.copy()\n",
    "df2_val = df_val.fillna(df.mean())\n",
    "\n",
    "X2_val = np.array(df2_val[TRAINING_COLUMNS])\n",
    "y2_val = np.array(df2_val[TARGET_COLUMN])\n",
    "\n",
    "y2_pred = predict(w0_2, w_2, X2_val)\n",
    "rmse_2 = rmse(y2_val, y2_pred)\n",
    "\n",
    "print(\"rmse_2:\", rmse_2)"
   ]
  },
  {
   "cell_type": "markdown",
   "id": "f73907a7-eb6a-4f6c-b364-26060c44b3bf",
   "metadata": {},
   "source": [
    "### Question 4\n",
    "\n",
    "* Now let's train a regularized linear regression.\n",
    "* For this question, fill the NAs with 0. \n",
    "* Try different values of `r` from this list: `[0, 0.01, 0.1, 1, 5, 10, 100]`.\n",
    "* Use RMSE to evaluate the model on the validation dataset.\n",
    "* Round the RMSE scores to 2 decimal digits.\n",
    "* Which `r` gives the best RMSE?\n",
    "\n",
    "If there are multiple options, select the smallest `r`.\n",
    "\n",
    "Options:\n",
    "\n",
    "- 0\n",
    "- 0.01\n",
    "- 1\n",
    "- **10** (answer)\n",
    "- 100"
   ]
  },
  {
   "cell_type": "code",
   "execution_count": 13,
   "id": "3bbb9aee-61a0-4ca7-91da-13880e6d1e92",
   "metadata": {},
   "outputs": [],
   "source": [
    "def train_linear_regression_reg(X, y, r=0.001):\n",
    "    ones = np.ones(X.shape[0])\n",
    "    X = np.column_stack([ones, X])\n",
    "\n",
    "    XTX = X.T.dot(X)\n",
    "    XTX = XTX + r * np.eye(XTX.shape[0])\n",
    "\n",
    "    XTX_inv = np.linalg.inv(XTX)\n",
    "    w_full = XTX_inv.dot(X.T).dot(y)\n",
    "    \n",
    "    return w_full[0], w_full[1:]"
   ]
  },
  {
   "cell_type": "code",
   "execution_count": 14,
   "id": "118de794-4397-4f4f-89f4-b281edaae857",
   "metadata": {},
   "outputs": [
    {
     "name": "stdout",
     "output_type": "stream",
     "text": [
      "r_value: 0 \t rmse: 597.36\n",
      "r_value: 0.01 \t rmse: 597.36\n",
      "r_value: 0.1 \t rmse: 597.35\n",
      "r_value: 1 \t rmse: 597.21\n",
      "r_value: 10 \t rmse: 597.06\n",
      "r_value: 100 \t rmse: 597.9\n",
      "min_rmse: 597.06 \t r_value: 10\n"
     ]
    }
   ],
   "source": [
    "R_VALUES = [0, 0.01, 0.1, 1, 10, 100]\n",
    "RMSE_VALUES = []\n",
    "\n",
    "for r_value in R_VALUES:\n",
    "    w0_temp, w_temp = train_linear_regression_reg(X1_train, y1_train, r=r_value)\n",
    "    y_pred_temp = predict(w0_temp, w_temp, X1_val)\n",
    "    rmse_temp = rmse(y1_val, y_pred_temp)\n",
    "    rounded_rmse_temp = round(rmse_temp, 2)\n",
    "    print(f\"r_value: {r_value} \\t rmse: {rounded_rmse_temp}\")\n",
    "    RMSE_VALUES.append(rmse_temp)\n",
    "\n",
    "min_rmse = min(RMSE_VALUES)\n",
    "min_index = RMSE_VALUES.index(min_rmse)\n",
    "min_r_value = R_VALUES[min_index]\n",
    "print(\"min_rmse:\", round(min_rmse, 2), \"\\t\", \"r_value:\", min_r_value)\n"
   ]
  },
  {
   "cell_type": "markdown",
   "id": "3decf085-86f4-459c-86d8-abbd151214aa",
   "metadata": {},
   "source": [
    "### Question 5 \n",
    "\n",
    "* We used seed 42 for splitting the data. Let's find out how selecting the seed influences our score.\n",
    "* Try different seed values: `[0, 1, 2, 3, 4, 5, 6, 7, 8, 9]`.\n",
    "* For each seed, do the train/validation/test split with 60%/20%/20% distribution.\n",
    "* Fill the missing values with 0 and train a model without regularization.\n",
    "* For each seed, evaluate the model on the validation dataset and collect the RMSE scores. \n",
    "* What's the standard deviation of all the scores? To compute the standard deviation, use `np.std`.\n",
    "* Round the result to 3 decimal digits (`round(std, 3)`)\n",
    "\n",
    "What's the value of std?\n",
    "\n",
    "- 19.176\n",
    "- **29.176** (answer)\n",
    "- 39.176\n",
    "- 49.176\n",
    "\n",
    "> Note: Standard deviation shows how different the values are.\n",
    "> If it's low, then all values are approximately the same.\n",
    "> If it's high, the values are different. \n",
    "> If standard deviation of scores is low, then our model is *stable*.\n"
   ]
  },
  {
   "cell_type": "code",
   "execution_count": 15,
   "id": "3286df8b-31f5-403d-8e09-f99e2f0335a2",
   "metadata": {},
   "outputs": [],
   "source": [
    "def generate_dataset(df, seed=42):\n",
    "    n = len(df)\n",
    "\n",
    "    n_val = int(n * 0.2)\n",
    "    n_test = int(n * 0.2)\n",
    "    n_train = n - n_val - n_test\n",
    "    \n",
    "    idx = np.arange(n)\n",
    "    np.random.seed(seed)\n",
    "    np.random.shuffle(idx)\n",
    "    \n",
    "    df_train = df.iloc[idx[:n_train]]\n",
    "    df_val = df.iloc[idx[n_train:n_train+n_val]]\n",
    "    df_test = df.iloc[idx[n_train+n_val:]]\n",
    "    \n",
    "    df_train = df_train.reset_index(drop=True)\n",
    "    df_val = df_val.reset_index(drop=True)\n",
    "    df_test = df_test.reset_index(drop=True)\n",
    "\n",
    "    return df_train, df_val, df_test"
   ]
  },
  {
   "cell_type": "code",
   "execution_count": 16,
   "id": "f67277c5-1984-4a72-b034-0bbcdf3b3de5",
   "metadata": {},
   "outputs": [
    {
     "name": "stdout",
     "output_type": "stream",
     "text": [
      "std_value: 29.176\n"
     ]
    }
   ],
   "source": [
    "SEED_VALUES = [0, 1, 2, 3, 4, 5, 6, 7, 8, 9]\n",
    "RMSE_VALUES = []\n",
    "\n",
    "for seed in SEED_VALUES:\n",
    "    df_train_temp, df_val_temp, df_test_temp = generate_dataset(df, seed=seed)\n",
    "    \n",
    "    df_train_temp = df_train_temp.fillna(0)\n",
    "    df_val_temp = df_val_temp.fillna(0)\n",
    "    \n",
    "    X_train_temp = np.array(df_train_temp[TRAINING_COLUMNS])\n",
    "    y_train_temp = np.array(df_train_temp[TARGET_COLUMN])\n",
    "    X_val_temp = np.array(df_val_temp[TRAINING_COLUMNS])\n",
    "    y_val_temp = np.array(df_val_temp[TARGET_COLUMN])\n",
    "    \n",
    "    w0_temp, w_temp = train_linear_regression(X_train_temp, y_train_temp)\n",
    "    y_pred_temp = predict(w0_temp, w_temp, X_val_temp)\n",
    "\n",
    "    rmse_temp = rmse(y_pred_temp, y_val_temp)\n",
    "    RMSE_VALUES.append(rmse_temp)\n",
    "\n",
    "rmse_array = np.array(RMSE_VALUES)\n",
    "std_value = np.std(rmse_array)\n",
    "\n",
    "print(\"std_value:\", round(std_value,3))\n",
    "    "
   ]
  },
  {
   "cell_type": "markdown",
   "id": "13afabc0-21ab-44e0-a9ad-526826f1978e",
   "metadata": {},
   "source": [
    "### Question 6\n",
    "\n",
    "* Split the dataset like previously, use seed 9.\n",
    "* Combine train and validation datasets.\n",
    "* Fill the missing values with 0 and train a model with `r=0.001`. \n",
    "* What's the RMSE on the test dataset?\n",
    "\n",
    "Options:\n",
    "\n",
    "- 598.60\n",
    "- **608.60** (answer)\n",
    "- 618.60\n",
    "- 628.60\n",
    "\n"
   ]
  },
  {
   "cell_type": "code",
   "execution_count": 17,
   "id": "890607ca-dd6e-4163-bbc8-9d9a238508c8",
   "metadata": {},
   "outputs": [
    {
     "name": "stdout",
     "output_type": "stream",
     "text": [
      "rmse_full: 608.6099822049559\n"
     ]
    }
   ],
   "source": [
    "df_train_temp, df_val_temp, df_test_temp = generate_dataset(df, seed=9)\n",
    "\n",
    "df_train_full = pd.concat((df_train_temp, df_val_temp))\n",
    "df_val_full = df_test_temp\n",
    "\n",
    "df_train_full = df_train_full.fillna(0)\n",
    "df_val_full = df_val_full.fillna(0)\n",
    "\n",
    "X_train_full = np.array(df_train_full[TRAINING_COLUMNS])\n",
    "y_train_full = np.array(df_train_full[TARGET_COLUMN])\n",
    "X_val_full = np.array(df_val_full[TRAINING_COLUMNS])\n",
    "y_val_full = np.array(df_val_full[TARGET_COLUMN])\n",
    "\n",
    "w0_full, w_full = train_linear_regression_reg(X_train_full, y_train_full, r=0.001)\n",
    "y_pred_full = predict(w0_full, w_full, X_val_full)\n",
    "\n",
    "rmse_full = rmse(y_pred_full, y_val_full)\n",
    "print(\"rmse_full:\", rmse_full)\n"
   ]
  },
  {
   "cell_type": "markdown",
   "id": "363c202c-1eb6-4b2b-87e1-d9c7c72f0beb",
   "metadata": {},
   "source": [
    "## Submit the results\n",
    "\n",
    "* Submit your results here: https://courses.datatalks.club/ml-zoomcamp-2024/homework/hw02\n",
    "* If your answer doesn't match options exactly, select the closest one\n"
   ]
  }
 ],
 "metadata": {
  "kernelspec": {
   "display_name": "Python 3 (ipykernel)",
   "language": "python",
   "name": "python3"
  },
  "language_info": {
   "codemirror_mode": {
    "name": "ipython",
    "version": 3
   },
   "file_extension": ".py",
   "mimetype": "text/x-python",
   "name": "python",
   "nbconvert_exporter": "python",
   "pygments_lexer": "ipython3",
   "version": "3.12.7"
  }
 },
 "nbformat": 4,
 "nbformat_minor": 5
}
